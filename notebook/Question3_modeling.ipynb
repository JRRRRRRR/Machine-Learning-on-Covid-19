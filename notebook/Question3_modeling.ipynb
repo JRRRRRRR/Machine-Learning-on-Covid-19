{
 "cells": [
  {
   "cell_type": "markdown",
   "metadata": {},
   "source": [
    "# Import Libraries and Preview Data"
   ]
  },
  {
   "cell_type": "code",
   "execution_count": 1,
   "metadata": {},
   "outputs": [],
   "source": [
    "import numpy as np\n",
    "import pandas as pd\n",
    "import warnings\n",
    "warnings.simplefilter(\"ignore\")\n",
    "\n",
    "from sklearn.ensemble import RandomForestClassifier\n",
    "from sklearn.linear_model import LogisticRegression\n",
    "from sklearn.preprocessing import LabelEncoder, StandardScaler, OneHotEncoder, MinMaxScaler\n",
    "\n",
    "from sklearn.feature_selection import SelectKBest, chi2\n",
    "from sklearn.model_selection import train_test_split, cross_val_score, StratifiedShuffleSplit, GridSearchCV, RandomizedSearchCV\n",
    "from sklearn.linear_model import LogisticRegression\n",
    "from sklearn.metrics import accuracy_score, roc_curve, auc, classification_report, accuracy_score, roc_auc_score, confusion_matrix\n",
    "from sklearn.ensemble import ExtraTreesClassifier\n",
    "\n",
    "import xgboost as xgb\n",
    "\n",
    "from statsmodels.stats.outliers_influence import variance_inflation_factor\n",
    "from statsmodels.tools.tools import add_constant\n",
    "\n",
    "import matplotlib.pyplot as plt\n",
    "%matplotlib inline\n",
    "import seaborn as sns\n",
    "plt.style.use('seaborn')"
   ]
  },
  {
   "cell_type": "code",
   "execution_count": 2,
   "metadata": {},
   "outputs": [],
   "source": [
    "df = pd.read_csv('data/clean_data.csv', index_col=0)"
   ]
  },
  {
   "cell_type": "code",
   "execution_count": 3,
   "metadata": {},
   "outputs": [
    {
     "data": {
      "text/html": [
       "<div>\n",
       "<style scoped>\n",
       "    .dataframe tbody tr th:only-of-type {\n",
       "        vertical-align: middle;\n",
       "    }\n",
       "\n",
       "    .dataframe tbody tr th {\n",
       "        vertical-align: top;\n",
       "    }\n",
       "\n",
       "    .dataframe thead th {\n",
       "        text-align: right;\n",
       "    }\n",
       "</style>\n",
       "<table border=\"1\" class=\"dataframe\">\n",
       "  <thead>\n",
       "    <tr style=\"text-align: right;\">\n",
       "      <th></th>\n",
       "      <th>state</th>\n",
       "      <th>death</th>\n",
       "      <th>deathIncrease</th>\n",
       "      <th>hospitalizedCurrently</th>\n",
       "      <th>hospitalizedIncrease</th>\n",
       "      <th>negative</th>\n",
       "      <th>negativeIncrease</th>\n",
       "      <th>positive</th>\n",
       "      <th>positiveCasesViral</th>\n",
       "      <th>positiveIncrease</th>\n",
       "      <th>recovered</th>\n",
       "      <th>totalTestResults</th>\n",
       "      <th>totalTestResultsIncrease</th>\n",
       "      <th>totalTestsPeopleViralIncrease</th>\n",
       "      <th>totalTestsViralIncrease</th>\n",
       "    </tr>\n",
       "  </thead>\n",
       "  <tbody>\n",
       "    <tr>\n",
       "      <th>1</th>\n",
       "      <td>AL</td>\n",
       "      <td>3084.0</td>\n",
       "      <td>0</td>\n",
       "      <td>1174.0</td>\n",
       "      <td>0</td>\n",
       "      <td>1232975.0</td>\n",
       "      <td>3158</td>\n",
       "      <td>204857.0</td>\n",
       "      <td>173854.0</td>\n",
       "      <td>1170</td>\n",
       "      <td>84471.0</td>\n",
       "      <td>1406829.0</td>\n",
       "      <td>4138</td>\n",
       "      <td>0</td>\n",
       "      <td>4138</td>\n",
       "    </tr>\n",
       "    <tr>\n",
       "      <th>2</th>\n",
       "      <td>AR</td>\n",
       "      <td>2108.0</td>\n",
       "      <td>23</td>\n",
       "      <td>786.0</td>\n",
       "      <td>62</td>\n",
       "      <td>1324655.0</td>\n",
       "      <td>7716</td>\n",
       "      <td>122811.0</td>\n",
       "      <td>111761.0</td>\n",
       "      <td>945</td>\n",
       "      <td>108201.0</td>\n",
       "      <td>1436416.0</td>\n",
       "      <td>8545</td>\n",
       "      <td>0</td>\n",
       "      <td>8545</td>\n",
       "    </tr>\n",
       "    <tr>\n",
       "      <th>4</th>\n",
       "      <td>AZ</td>\n",
       "      <td>6164.0</td>\n",
       "      <td>0</td>\n",
       "      <td>1232.0</td>\n",
       "      <td>9</td>\n",
       "      <td>1630206.0</td>\n",
       "      <td>10142</td>\n",
       "      <td>259699.0</td>\n",
       "      <td>253001.0</td>\n",
       "      <td>435</td>\n",
       "      <td>43460.0</td>\n",
       "      <td>1883207.0</td>\n",
       "      <td>10547</td>\n",
       "      <td>10547</td>\n",
       "      <td>0</td>\n",
       "    </tr>\n",
       "    <tr>\n",
       "      <th>6</th>\n",
       "      <td>CO</td>\n",
       "      <td>2168.0</td>\n",
       "      <td>0</td>\n",
       "      <td>1134.0</td>\n",
       "      <td>20</td>\n",
       "      <td>1210972.0</td>\n",
       "      <td>10965</td>\n",
       "      <td>130984.0</td>\n",
       "      <td>123351.0</td>\n",
       "      <td>3017</td>\n",
       "      <td>8667.0</td>\n",
       "      <td>2245385.0</td>\n",
       "      <td>30597</td>\n",
       "      <td>13934</td>\n",
       "      <td>0</td>\n",
       "    </tr>\n",
       "    <tr>\n",
       "      <th>7</th>\n",
       "      <td>CT</td>\n",
       "      <td>4698.0</td>\n",
       "      <td>27</td>\n",
       "      <td>496.0</td>\n",
       "      <td>0</td>\n",
       "      <td>2498115.0</td>\n",
       "      <td>86636</td>\n",
       "      <td>81463.0</td>\n",
       "      <td>76256.0</td>\n",
       "      <td>3338</td>\n",
       "      <td>9800.0</td>\n",
       "      <td>2579578.0</td>\n",
       "      <td>89974</td>\n",
       "      <td>0</td>\n",
       "      <td>89686</td>\n",
       "    </tr>\n",
       "  </tbody>\n",
       "</table>\n",
       "</div>"
      ],
      "text/plain": [
       "  state   death  deathIncrease  hospitalizedCurrently  hospitalizedIncrease  \\\n",
       "1    AL  3084.0              0                 1174.0                     0   \n",
       "2    AR  2108.0             23                  786.0                    62   \n",
       "4    AZ  6164.0              0                 1232.0                     9   \n",
       "6    CO  2168.0              0                 1134.0                    20   \n",
       "7    CT  4698.0             27                  496.0                     0   \n",
       "\n",
       "    negative  negativeIncrease  positive  positiveCasesViral  \\\n",
       "1  1232975.0              3158  204857.0            173854.0   \n",
       "2  1324655.0              7716  122811.0            111761.0   \n",
       "4  1630206.0             10142  259699.0            253001.0   \n",
       "6  1210972.0             10965  130984.0            123351.0   \n",
       "7  2498115.0             86636   81463.0             76256.0   \n",
       "\n",
       "   positiveIncrease  recovered  totalTestResults  totalTestResultsIncrease  \\\n",
       "1              1170    84471.0         1406829.0                      4138   \n",
       "2               945   108201.0         1436416.0                      8545   \n",
       "4               435    43460.0         1883207.0                     10547   \n",
       "6              3017     8667.0         2245385.0                     30597   \n",
       "7              3338     9800.0         2579578.0                     89974   \n",
       "\n",
       "   totalTestsPeopleViralIncrease  totalTestsViralIncrease  \n",
       "1                              0                     4138  \n",
       "2                              0                     8545  \n",
       "4                          10547                        0  \n",
       "6                          13934                        0  \n",
       "7                              0                    89686  "
      ]
     },
     "execution_count": 3,
     "metadata": {},
     "output_type": "execute_result"
    }
   ],
   "source": [
    "df.head()"
   ]
  },
  {
   "cell_type": "code",
   "execution_count": 4,
   "metadata": {},
   "outputs": [
    {
     "data": {
      "text/html": [
       "<div>\n",
       "<style scoped>\n",
       "    .dataframe tbody tr th:only-of-type {\n",
       "        vertical-align: middle;\n",
       "    }\n",
       "\n",
       "    .dataframe tbody tr th {\n",
       "        vertical-align: top;\n",
       "    }\n",
       "\n",
       "    .dataframe thead th {\n",
       "        text-align: right;\n",
       "    }\n",
       "</style>\n",
       "<table border=\"1\" class=\"dataframe\">\n",
       "  <thead>\n",
       "    <tr style=\"text-align: right;\">\n",
       "      <th></th>\n",
       "      <th>death</th>\n",
       "      <th>deathIncrease</th>\n",
       "      <th>hospitalizedCurrently</th>\n",
       "      <th>hospitalizedIncrease</th>\n",
       "      <th>negative</th>\n",
       "      <th>negativeIncrease</th>\n",
       "      <th>positive</th>\n",
       "      <th>positiveCasesViral</th>\n",
       "      <th>positiveIncrease</th>\n",
       "      <th>recovered</th>\n",
       "      <th>totalTestResults</th>\n",
       "      <th>totalTestResultsIncrease</th>\n",
       "      <th>totalTestsPeopleViralIncrease</th>\n",
       "      <th>totalTestsViralIncrease</th>\n",
       "    </tr>\n",
       "  </thead>\n",
       "  <tbody>\n",
       "    <tr>\n",
       "      <th>count</th>\n",
       "      <td>7848.000000</td>\n",
       "      <td>7848.000000</td>\n",
       "      <td>7848.000000</td>\n",
       "      <td>7848.000000</td>\n",
       "      <td>7.848000e+03</td>\n",
       "      <td>7848.000000</td>\n",
       "      <td>7848.000000</td>\n",
       "      <td>7848.000000</td>\n",
       "      <td>7848.000000</td>\n",
       "      <td>7848.000000</td>\n",
       "      <td>7.848000e+03</td>\n",
       "      <td>7848.000000</td>\n",
       "      <td>7848.000000</td>\n",
       "      <td>7.848000e+03</td>\n",
       "    </tr>\n",
       "    <tr>\n",
       "      <th>mean</th>\n",
       "      <td>2697.690240</td>\n",
       "      <td>13.756626</td>\n",
       "      <td>619.650612</td>\n",
       "      <td>32.450943</td>\n",
       "      <td>9.101826e+05</td>\n",
       "      <td>10376.275229</td>\n",
       "      <td>75665.605759</td>\n",
       "      <td>73828.007390</td>\n",
       "      <td>715.622324</td>\n",
       "      <td>39693.192151</td>\n",
       "      <td>1.073445e+06</td>\n",
       "      <td>12592.208461</td>\n",
       "      <td>3089.970438</td>\n",
       "      <td>8.664066e+03</td>\n",
       "    </tr>\n",
       "    <tr>\n",
       "      <th>std</th>\n",
       "      <td>4768.100689</td>\n",
       "      <td>31.395688</td>\n",
       "      <td>1057.981393</td>\n",
       "      <td>253.344320</td>\n",
       "      <td>1.459462e+06</td>\n",
       "      <td>16721.306715</td>\n",
       "      <td>110977.252791</td>\n",
       "      <td>110163.630126</td>\n",
       "      <td>1091.398648</td>\n",
       "      <td>78266.889113</td>\n",
       "      <td>1.595635e+06</td>\n",
       "      <td>18021.230078</td>\n",
       "      <td>12569.000905</td>\n",
       "      <td>3.154100e+04</td>\n",
       "    </tr>\n",
       "    <tr>\n",
       "      <th>min</th>\n",
       "      <td>1.000000</td>\n",
       "      <td>0.000000</td>\n",
       "      <td>0.000000</td>\n",
       "      <td>0.000000</td>\n",
       "      <td>1.308000e+03</td>\n",
       "      <td>0.000000</td>\n",
       "      <td>141.000000</td>\n",
       "      <td>137.000000</td>\n",
       "      <td>0.000000</td>\n",
       "      <td>11.000000</td>\n",
       "      <td>1.449000e+03</td>\n",
       "      <td>0.000000</td>\n",
       "      <td>0.000000</td>\n",
       "      <td>0.000000e+00</td>\n",
       "    </tr>\n",
       "    <tr>\n",
       "      <th>25%</th>\n",
       "      <td>213.000000</td>\n",
       "      <td>1.000000</td>\n",
       "      <td>94.750000</td>\n",
       "      <td>0.000000</td>\n",
       "      <td>1.670785e+05</td>\n",
       "      <td>1624.750000</td>\n",
       "      <td>9248.500000</td>\n",
       "      <td>9068.750000</td>\n",
       "      <td>106.000000</td>\n",
       "      <td>3346.000000</td>\n",
       "      <td>2.130140e+05</td>\n",
       "      <td>2652.750000</td>\n",
       "      <td>0.000000</td>\n",
       "      <td>0.000000e+00</td>\n",
       "    </tr>\n",
       "    <tr>\n",
       "      <th>50%</th>\n",
       "      <td>829.000000</td>\n",
       "      <td>5.000000</td>\n",
       "      <td>343.000000</td>\n",
       "      <td>3.000000</td>\n",
       "      <td>4.348380e+05</td>\n",
       "      <td>4922.000000</td>\n",
       "      <td>36496.500000</td>\n",
       "      <td>35779.500000</td>\n",
       "      <td>414.000000</td>\n",
       "      <td>11395.000000</td>\n",
       "      <td>5.396815e+05</td>\n",
       "      <td>6470.500000</td>\n",
       "      <td>0.000000</td>\n",
       "      <td>2.493500e+03</td>\n",
       "    </tr>\n",
       "    <tr>\n",
       "      <th>75%</th>\n",
       "      <td>2967.250000</td>\n",
       "      <td>15.000000</td>\n",
       "      <td>744.250000</td>\n",
       "      <td>32.000000</td>\n",
       "      <td>1.055481e+06</td>\n",
       "      <td>11684.000000</td>\n",
       "      <td>103457.750000</td>\n",
       "      <td>99705.500000</td>\n",
       "      <td>894.000000</td>\n",
       "      <td>49750.500000</td>\n",
       "      <td>1.267424e+06</td>\n",
       "      <td>14747.500000</td>\n",
       "      <td>3427.250000</td>\n",
       "      <td>8.941000e+03</td>\n",
       "    </tr>\n",
       "    <tr>\n",
       "      <th>max</th>\n",
       "      <td>25973.000000</td>\n",
       "      <td>951.000000</td>\n",
       "      <td>10993.000000</td>\n",
       "      <td>16373.000000</td>\n",
       "      <td>1.524405e+07</td>\n",
       "      <td>166478.000000</td>\n",
       "      <td>963019.000000</td>\n",
       "      <td>963019.000000</td>\n",
       "      <td>17820.000000</td>\n",
       "      <td>820215.000000</td>\n",
       "      <td>1.577623e+07</td>\n",
       "      <td>168353.000000</td>\n",
       "      <td>820817.000000</td>\n",
       "      <td>2.352923e+06</td>\n",
       "    </tr>\n",
       "  </tbody>\n",
       "</table>\n",
       "</div>"
      ],
      "text/plain": [
       "              death  deathIncrease  hospitalizedCurrently  \\\n",
       "count   7848.000000    7848.000000            7848.000000   \n",
       "mean    2697.690240      13.756626             619.650612   \n",
       "std     4768.100689      31.395688            1057.981393   \n",
       "min        1.000000       0.000000               0.000000   \n",
       "25%      213.000000       1.000000              94.750000   \n",
       "50%      829.000000       5.000000             343.000000   \n",
       "75%     2967.250000      15.000000             744.250000   \n",
       "max    25973.000000     951.000000           10993.000000   \n",
       "\n",
       "       hospitalizedIncrease      negative  negativeIncrease       positive  \\\n",
       "count           7848.000000  7.848000e+03       7848.000000    7848.000000   \n",
       "mean              32.450943  9.101826e+05      10376.275229   75665.605759   \n",
       "std              253.344320  1.459462e+06      16721.306715  110977.252791   \n",
       "min                0.000000  1.308000e+03          0.000000     141.000000   \n",
       "25%                0.000000  1.670785e+05       1624.750000    9248.500000   \n",
       "50%                3.000000  4.348380e+05       4922.000000   36496.500000   \n",
       "75%               32.000000  1.055481e+06      11684.000000  103457.750000   \n",
       "max            16373.000000  1.524405e+07     166478.000000  963019.000000   \n",
       "\n",
       "       positiveCasesViral  positiveIncrease      recovered  totalTestResults  \\\n",
       "count         7848.000000       7848.000000    7848.000000      7.848000e+03   \n",
       "mean         73828.007390        715.622324   39693.192151      1.073445e+06   \n",
       "std         110163.630126       1091.398648   78266.889113      1.595635e+06   \n",
       "min            137.000000          0.000000      11.000000      1.449000e+03   \n",
       "25%           9068.750000        106.000000    3346.000000      2.130140e+05   \n",
       "50%          35779.500000        414.000000   11395.000000      5.396815e+05   \n",
       "75%          99705.500000        894.000000   49750.500000      1.267424e+06   \n",
       "max         963019.000000      17820.000000  820215.000000      1.577623e+07   \n",
       "\n",
       "       totalTestResultsIncrease  totalTestsPeopleViralIncrease  \\\n",
       "count               7848.000000                    7848.000000   \n",
       "mean               12592.208461                    3089.970438   \n",
       "std                18021.230078                   12569.000905   \n",
       "min                    0.000000                       0.000000   \n",
       "25%                 2652.750000                       0.000000   \n",
       "50%                 6470.500000                       0.000000   \n",
       "75%                14747.500000                    3427.250000   \n",
       "max               168353.000000                  820817.000000   \n",
       "\n",
       "       totalTestsViralIncrease  \n",
       "count             7.848000e+03  \n",
       "mean              8.664066e+03  \n",
       "std               3.154100e+04  \n",
       "min               0.000000e+00  \n",
       "25%               0.000000e+00  \n",
       "50%               2.493500e+03  \n",
       "75%               8.941000e+03  \n",
       "max               2.352923e+06  "
      ]
     },
     "execution_count": 4,
     "metadata": {},
     "output_type": "execute_result"
    }
   ],
   "source": [
    "df.describe()"
   ]
  },
  {
   "cell_type": "markdown",
   "metadata": {},
   "source": [
    "# Question 3: Make a model to predict the Covid-19 daily quality "
   ]
  },
  {
   "cell_type": "markdown",
   "metadata": {},
   "source": [
    "### Use Death Increase as an estimator for the Covid-19 quality and divide into different levels"
   ]
  },
  {
   "cell_type": "code",
   "execution_count": 5,
   "metadata": {},
   "outputs": [
    {
     "data": {
      "image/png": "[encoded data removed]",
      "text/plain": [
       "<Figure size 432x288 with 1 Axes>"
      ]
     },
     "metadata": {
      "needs_background": "light"
     },
     "output_type": "display_data"
    }
   ],
   "source": [
    "plt.boxplot(df['deathIncrease'])\n",
    "plt.show()"
   ]
  },
  {
   "cell_type": "code",
   "execution_count": 6,
   "metadata": {},
   "outputs": [
    {
     "data": {
      "text/html": [
       "<div>\n",
       "<style scoped>\n",
       "    .dataframe tbody tr th:only-of-type {\n",
       "        vertical-align: middle;\n",
       "    }\n",
       "\n",
       "    .dataframe tbody tr th {\n",
       "        vertical-align: top;\n",
       "    }\n",
       "\n",
       "    .dataframe thead th {\n",
       "        text-align: right;\n",
       "    }\n",
       "</style>\n",
       "<table border=\"1\" class=\"dataframe\">\n",
       "  <thead>\n",
       "    <tr style=\"text-align: right;\">\n",
       "      <th></th>\n",
       "      <th>death</th>\n",
       "      <th>deathIncrease</th>\n",
       "      <th>hospitalizedCurrently</th>\n",
       "      <th>hospitalizedIncrease</th>\n",
       "      <th>negative</th>\n",
       "      <th>negativeIncrease</th>\n",
       "      <th>positive</th>\n",
       "      <th>positiveCasesViral</th>\n",
       "      <th>positiveIncrease</th>\n",
       "      <th>recovered</th>\n",
       "      <th>totalTestResults</th>\n",
       "      <th>totalTestResultsIncrease</th>\n",
       "      <th>totalTestsPeopleViralIncrease</th>\n",
       "      <th>totalTestsViralIncrease</th>\n",
       "    </tr>\n",
       "  </thead>\n",
       "  <tbody>\n",
       "    <tr>\n",
       "      <th>death</th>\n",
       "      <td>1.000000</td>\n",
       "      <td>0.319326</td>\n",
       "      <td>0.380864</td>\n",
       "      <td>0.060170</td>\n",
       "      <td>0.787644</td>\n",
       "      <td>0.745800</td>\n",
       "      <td>0.802609</td>\n",
       "      <td>0.804794</td>\n",
       "      <td>0.294694</td>\n",
       "      <td>0.445503</td>\n",
       "      <td>0.788072</td>\n",
       "      <td>0.734087</td>\n",
       "      <td>0.027438</td>\n",
       "      <td>0.154685</td>\n",
       "    </tr>\n",
       "    <tr>\n",
       "      <th>deathIncrease</th>\n",
       "      <td>0.319326</td>\n",
       "      <td>1.000000</td>\n",
       "      <td>0.758733</td>\n",
       "      <td>0.081788</td>\n",
       "      <td>0.189159</td>\n",
       "      <td>0.244405</td>\n",
       "      <td>0.437336</td>\n",
       "      <td>0.438577</td>\n",
       "      <td>0.541205</td>\n",
       "      <td>0.393041</td>\n",
       "      <td>0.198004</td>\n",
       "      <td>0.252440</td>\n",
       "      <td>0.017693</td>\n",
       "      <td>0.115336</td>\n",
       "    </tr>\n",
       "    <tr>\n",
       "      <th>hospitalizedCurrently</th>\n",
       "      <td>0.380864</td>\n",
       "      <td>0.758733</td>\n",
       "      <td>1.000000</td>\n",
       "      <td>0.087588</td>\n",
       "      <td>0.321887</td>\n",
       "      <td>0.390851</td>\n",
       "      <td>0.591433</td>\n",
       "      <td>0.592361</td>\n",
       "      <td>0.777082</td>\n",
       "      <td>0.522036</td>\n",
       "      <td>0.326386</td>\n",
       "      <td>0.394547</td>\n",
       "      <td>-0.001314</td>\n",
       "      <td>0.178803</td>\n",
       "    </tr>\n",
       "    <tr>\n",
       "      <th>hospitalizedIncrease</th>\n",
       "      <td>0.060170</td>\n",
       "      <td>0.081788</td>\n",
       "      <td>0.087588</td>\n",
       "      <td>1.000000</td>\n",
       "      <td>0.017374</td>\n",
       "      <td>0.027256</td>\n",
       "      <td>0.049251</td>\n",
       "      <td>0.047637</td>\n",
       "      <td>0.055023</td>\n",
       "      <td>0.002618</td>\n",
       "      <td>0.020500</td>\n",
       "      <td>0.029113</td>\n",
       "      <td>0.003202</td>\n",
       "      <td>0.008485</td>\n",
       "    </tr>\n",
       "    <tr>\n",
       "      <th>negative</th>\n",
       "      <td>0.787644</td>\n",
       "      <td>0.189159</td>\n",
       "      <td>0.321887</td>\n",
       "      <td>0.017374</td>\n",
       "      <td>1.000000</td>\n",
       "      <td>0.839536</td>\n",
       "      <td>0.832320</td>\n",
       "      <td>0.830648</td>\n",
       "      <td>0.452322</td>\n",
       "      <td>0.578435</td>\n",
       "      <td>0.983733</td>\n",
       "      <td>0.824563</td>\n",
       "      <td>0.000788</td>\n",
       "      <td>0.183278</td>\n",
       "    </tr>\n",
       "    <tr>\n",
       "      <th>negativeIncrease</th>\n",
       "      <td>0.745800</td>\n",
       "      <td>0.244405</td>\n",
       "      <td>0.390851</td>\n",
       "      <td>0.027256</td>\n",
       "      <td>0.839536</td>\n",
       "      <td>1.000000</td>\n",
       "      <td>0.728710</td>\n",
       "      <td>0.728775</td>\n",
       "      <td>0.475250</td>\n",
       "      <td>0.463629</td>\n",
       "      <td>0.814331</td>\n",
       "      <td>0.947614</td>\n",
       "      <td>0.004988</td>\n",
       "      <td>0.251340</td>\n",
       "    </tr>\n",
       "    <tr>\n",
       "      <th>positive</th>\n",
       "      <td>0.802609</td>\n",
       "      <td>0.437336</td>\n",
       "      <td>0.591433</td>\n",
       "      <td>0.049251</td>\n",
       "      <td>0.832320</td>\n",
       "      <td>0.728710</td>\n",
       "      <td>1.000000</td>\n",
       "      <td>0.999448</td>\n",
       "      <td>0.634182</td>\n",
       "      <td>0.829416</td>\n",
       "      <td>0.841511</td>\n",
       "      <td>0.729606</td>\n",
       "      <td>0.023758</td>\n",
       "      <td>0.215453</td>\n",
       "    </tr>\n",
       "    <tr>\n",
       "      <th>positiveCasesViral</th>\n",
       "      <td>0.804794</td>\n",
       "      <td>0.438577</td>\n",
       "      <td>0.592361</td>\n",
       "      <td>0.047637</td>\n",
       "      <td>0.830648</td>\n",
       "      <td>0.728775</td>\n",
       "      <td>0.999448</td>\n",
       "      <td>1.000000</td>\n",
       "      <td>0.630809</td>\n",
       "      <td>0.828023</td>\n",
       "      <td>0.839791</td>\n",
       "      <td>0.729238</td>\n",
       "      <td>0.022994</td>\n",
       "      <td>0.213297</td>\n",
       "    </tr>\n",
       "    <tr>\n",
       "      <th>positiveIncrease</th>\n",
       "      <td>0.294694</td>\n",
       "      <td>0.541205</td>\n",
       "      <td>0.777082</td>\n",
       "      <td>0.055023</td>\n",
       "      <td>0.452322</td>\n",
       "      <td>0.475250</td>\n",
       "      <td>0.634182</td>\n",
       "      <td>0.630809</td>\n",
       "      <td>1.000000</td>\n",
       "      <td>0.643955</td>\n",
       "      <td>0.472062</td>\n",
       "      <td>0.515793</td>\n",
       "      <td>0.056234</td>\n",
       "      <td>0.234114</td>\n",
       "    </tr>\n",
       "    <tr>\n",
       "      <th>recovered</th>\n",
       "      <td>0.445503</td>\n",
       "      <td>0.393041</td>\n",
       "      <td>0.522036</td>\n",
       "      <td>0.002618</td>\n",
       "      <td>0.578435</td>\n",
       "      <td>0.463629</td>\n",
       "      <td>0.829416</td>\n",
       "      <td>0.828023</td>\n",
       "      <td>0.643955</td>\n",
       "      <td>1.000000</td>\n",
       "      <td>0.599123</td>\n",
       "      <td>0.489932</td>\n",
       "      <td>0.035674</td>\n",
       "      <td>0.256901</td>\n",
       "    </tr>\n",
       "    <tr>\n",
       "      <th>totalTestResults</th>\n",
       "      <td>0.788072</td>\n",
       "      <td>0.198004</td>\n",
       "      <td>0.326386</td>\n",
       "      <td>0.020500</td>\n",
       "      <td>0.983733</td>\n",
       "      <td>0.814331</td>\n",
       "      <td>0.841511</td>\n",
       "      <td>0.839791</td>\n",
       "      <td>0.472062</td>\n",
       "      <td>0.599123</td>\n",
       "      <td>1.000000</td>\n",
       "      <td>0.848995</td>\n",
       "      <td>0.032966</td>\n",
       "      <td>0.202597</td>\n",
       "    </tr>\n",
       "    <tr>\n",
       "      <th>totalTestResultsIncrease</th>\n",
       "      <td>0.734087</td>\n",
       "      <td>0.252440</td>\n",
       "      <td>0.394547</td>\n",
       "      <td>0.029113</td>\n",
       "      <td>0.824563</td>\n",
       "      <td>0.947614</td>\n",
       "      <td>0.729606</td>\n",
       "      <td>0.729238</td>\n",
       "      <td>0.515793</td>\n",
       "      <td>0.489932</td>\n",
       "      <td>0.848995</td>\n",
       "      <td>1.000000</td>\n",
       "      <td>0.052615</td>\n",
       "      <td>0.289547</td>\n",
       "    </tr>\n",
       "    <tr>\n",
       "      <th>totalTestsPeopleViralIncrease</th>\n",
       "      <td>0.027438</td>\n",
       "      <td>0.017693</td>\n",
       "      <td>-0.001314</td>\n",
       "      <td>0.003202</td>\n",
       "      <td>0.000788</td>\n",
       "      <td>0.004988</td>\n",
       "      <td>0.023758</td>\n",
       "      <td>0.022994</td>\n",
       "      <td>0.056234</td>\n",
       "      <td>0.035674</td>\n",
       "      <td>0.032966</td>\n",
       "      <td>0.052615</td>\n",
       "      <td>1.000000</td>\n",
       "      <td>0.007514</td>\n",
       "    </tr>\n",
       "    <tr>\n",
       "      <th>totalTestsViralIncrease</th>\n",
       "      <td>0.154685</td>\n",
       "      <td>0.115336</td>\n",
       "      <td>0.178803</td>\n",
       "      <td>0.008485</td>\n",
       "      <td>0.183278</td>\n",
       "      <td>0.251340</td>\n",
       "      <td>0.215453</td>\n",
       "      <td>0.213297</td>\n",
       "      <td>0.234114</td>\n",
       "      <td>0.256901</td>\n",
       "      <td>0.202597</td>\n",
       "      <td>0.289547</td>\n",
       "      <td>0.007514</td>\n",
       "      <td>1.000000</td>\n",
       "    </tr>\n",
       "  </tbody>\n",
       "</table>\n",
       "</div>"
      ],
      "text/plain": [
       "                                  death  deathIncrease  hospitalizedCurrently  \\\n",
       "death                          1.000000       0.319326               0.380864   \n",
       "deathIncrease                  0.319326       1.000000               0.758733   \n",
       "hospitalizedCurrently          0.380864       0.758733               1.000000   \n",
       "hospitalizedIncrease           0.060170       0.081788               0.087588   \n",
       "negative                       0.787644       0.189159               0.321887   \n",
       "negativeIncrease               0.745800       0.244405               0.390851   \n",
       "positive                       0.802609       0.437336               0.591433   \n",
       "positiveCasesViral             0.804794       0.438577               0.592361   \n",
       "positiveIncrease               0.294694       0.541205               0.777082   \n",
       "recovered                      0.445503       0.393041               0.522036   \n",
       "totalTestResults               0.788072       0.198004               0.326386   \n",
       "totalTestResultsIncrease       0.734087       0.252440               0.394547   \n",
       "totalTestsPeopleViralIncrease  0.027438       0.017693              -0.001314   \n",
       "totalTestsViralIncrease        0.154685       0.115336               0.178803   \n",
       "\n",
       "                               hospitalizedIncrease  negative  \\\n",
       "death                                      0.060170  0.787644   \n",
       "deathIncrease                              0.081788  0.189159   \n",
       "hospitalizedCurrently                      0.087588  0.321887   \n",
       "hospitalizedIncrease                       1.000000  0.017374   \n",
       "negative                                   0.017374  1.000000   \n",
       "negativeIncrease                           0.027256  0.839536   \n",
       "positive                                   0.049251  0.832320   \n",
       "positiveCasesViral                         0.047637  0.830648   \n",
       "positiveIncrease                           0.055023  0.452322   \n",
       "recovered                                  0.002618  0.578435   \n",
       "totalTestResults                           0.020500  0.983733   \n",
       "totalTestResultsIncrease                   0.029113  0.824563   \n",
       "totalTestsPeopleViralIncrease              0.003202  0.000788   \n",
       "totalTestsViralIncrease                    0.008485  0.183278   \n",
       "\n",
       "                               negativeIncrease  positive  positiveCasesViral  \\\n",
       "death                                  0.745800  0.802609            0.804794   \n",
       "deathIncrease                          0.244405  0.437336            0.438577   \n",
       "hospitalizedCurrently                  0.390851  0.591433            0.592361   \n",
       "hospitalizedIncrease                   0.027256  0.049251            0.047637   \n",
       "negative                               0.839536  0.832320            0.830648   \n",
       "negativeIncrease                       1.000000  0.728710            0.728775   \n",
       "positive                               0.728710  1.000000            0.999448   \n",
       "positiveCasesViral                     0.728775  0.999448            1.000000   \n",
       "positiveIncrease                       0.475250  0.634182            0.630809   \n",
       "recovered                              0.463629  0.829416            0.828023   \n",
       "totalTestResults                       0.814331  0.841511            0.839791   \n",
       "totalTestResultsIncrease               0.947614  0.729606            0.729238   \n",
       "totalTestsPeopleViralIncrease          0.004988  0.023758            0.022994   \n",
       "totalTestsViralIncrease                0.251340  0.215453            0.213297   \n",
       "\n",
       "                               positiveIncrease  recovered  totalTestResults  \\\n",
       "death                                  0.294694   0.445503          0.788072   \n",
       "deathIncrease                          0.541205   0.393041          0.198004   \n",
       "hospitalizedCurrently                  0.777082   0.522036          0.326386   \n",
       "hospitalizedIncrease                   0.055023   0.002618          0.020500   \n",
       "negative                               0.452322   0.578435          0.983733   \n",
       "negativeIncrease                       0.475250   0.463629          0.814331   \n",
       "positive                               0.634182   0.829416          0.841511   \n",
       "positiveCasesViral                     0.630809   0.828023          0.839791   \n",
       "positiveIncrease                       1.000000   0.643955          0.472062   \n",
       "recovered                              0.643955   1.000000          0.599123   \n",
       "totalTestResults                       0.472062   0.599123          1.000000   \n",
       "totalTestResultsIncrease               0.515793   0.489932          0.848995   \n",
       "totalTestsPeopleViralIncrease          0.056234   0.035674          0.032966   \n",
       "totalTestsViralIncrease                0.234114   0.256901          0.202597   \n",
       "\n",
       "                               totalTestResultsIncrease  \\\n",
       "death                                          0.734087   \n",
       "deathIncrease                                  0.252440   \n",
       "hospitalizedCurrently                          0.394547   \n",
       "hospitalizedIncrease                           0.029113   \n",
       "negative                                       0.824563   \n",
       "negativeIncrease                               0.947614   \n",
       "positive                                       0.729606   \n",
       "positiveCasesViral                             0.729238   \n",
       "positiveIncrease                               0.515793   \n",
       "recovered                                      0.489932   \n",
       "totalTestResults                               0.848995   \n",
       "totalTestResultsIncrease                       1.000000   \n",
       "totalTestsPeopleViralIncrease                  0.052615   \n",
       "totalTestsViralIncrease                        0.289547   \n",
       "\n",
       "                               totalTestsPeopleViralIncrease  \\\n",
       "death                                               0.027438   \n",
       "deathIncrease                                       0.017693   \n",
       "hospitalizedCurrently                              -0.001314   \n",
       "hospitalizedIncrease                                0.003202   \n",
       "negative                                            0.000788   \n",
       "negativeIncrease                                    0.004988   \n",
       "positive                                            0.023758   \n",
       "positiveCasesViral                                  0.022994   \n",
       "positiveIncrease                                    0.056234   \n",
       "recovered                                           0.035674   \n",
       "totalTestResults                                    0.032966   \n",
       "totalTestResultsIncrease                            0.052615   \n",
       "totalTestsPeopleViralIncrease                       1.000000   \n",
       "totalTestsViralIncrease                             0.007514   \n",
       "\n",
       "                               totalTestsViralIncrease  \n",
       "death                                         0.154685  \n",
       "deathIncrease                                 0.115336  \n",
       "hospitalizedCurrently                         0.178803  \n",
       "hospitalizedIncrease                          0.008485  \n",
       "negative                                      0.183278  \n",
       "negativeIncrease                              0.251340  \n",
       "positive                                      0.215453  \n",
       "positiveCasesViral                            0.213297  \n",
       "positiveIncrease                              0.234114  \n",
       "recovered                                     0.256901  \n",
       "totalTestResults                              0.202597  \n",
       "totalTestResultsIncrease                      0.289547  \n",
       "totalTestsPeopleViralIncrease                 0.007514  \n",
       "totalTestsViralIncrease                       1.000000  "
      ]
     },
     "execution_count": 6,
     "metadata": {},
     "output_type": "execute_result"
    }
   ],
   "source": [
    "df.corr()"
   ]
  },
  {
   "cell_type": "code",
   "execution_count": 7,
   "metadata": {},
   "outputs": [
    {
     "data": {
      "text/html": [
       "<div>\n",
       "<style scoped>\n",
       "    .dataframe tbody tr th:only-of-type {\n",
       "        vertical-align: middle;\n",
       "    }\n",
       "\n",
       "    .dataframe tbody tr th {\n",
       "        vertical-align: top;\n",
       "    }\n",
       "\n",
       "    .dataframe thead th {\n",
       "        text-align: right;\n",
       "    }\n",
       "</style>\n",
       "<table border=\"1\" class=\"dataframe\">\n",
       "  <thead>\n",
       "    <tr style=\"text-align: right;\">\n",
       "      <th></th>\n",
       "      <th>index</th>\n",
       "      <th>state</th>\n",
       "      <th>death</th>\n",
       "      <th>deathIncrease</th>\n",
       "      <th>hospitalizedCurrently</th>\n",
       "      <th>hospitalizedIncrease</th>\n",
       "      <th>negative</th>\n",
       "      <th>negativeIncrease</th>\n",
       "      <th>positive</th>\n",
       "      <th>positiveCasesViral</th>\n",
       "      <th>positiveIncrease</th>\n",
       "      <th>recovered</th>\n",
       "      <th>totalTestResults</th>\n",
       "      <th>totalTestResultsIncrease</th>\n",
       "      <th>totalTestsPeopleViralIncrease</th>\n",
       "      <th>totalTestsViralIncrease</th>\n",
       "    </tr>\n",
       "  </thead>\n",
       "  <tbody>\n",
       "    <tr>\n",
       "      <th>0</th>\n",
       "      <td>1</td>\n",
       "      <td>AL</td>\n",
       "      <td>3084.0</td>\n",
       "      <td>0</td>\n",
       "      <td>1174.0</td>\n",
       "      <td>0</td>\n",
       "      <td>1232975.0</td>\n",
       "      <td>3158</td>\n",
       "      <td>204857.0</td>\n",
       "      <td>173854.0</td>\n",
       "      <td>1170</td>\n",
       "      <td>84471.0</td>\n",
       "      <td>1406829.0</td>\n",
       "      <td>4138</td>\n",
       "      <td>0</td>\n",
       "      <td>4138</td>\n",
       "    </tr>\n",
       "    <tr>\n",
       "      <th>1</th>\n",
       "      <td>2</td>\n",
       "      <td>AR</td>\n",
       "      <td>2108.0</td>\n",
       "      <td>23</td>\n",
       "      <td>786.0</td>\n",
       "      <td>62</td>\n",
       "      <td>1324655.0</td>\n",
       "      <td>7716</td>\n",
       "      <td>122811.0</td>\n",
       "      <td>111761.0</td>\n",
       "      <td>945</td>\n",
       "      <td>108201.0</td>\n",
       "      <td>1436416.0</td>\n",
       "      <td>8545</td>\n",
       "      <td>0</td>\n",
       "      <td>8545</td>\n",
       "    </tr>\n",
       "    <tr>\n",
       "      <th>2</th>\n",
       "      <td>4</td>\n",
       "      <td>AZ</td>\n",
       "      <td>6164.0</td>\n",
       "      <td>0</td>\n",
       "      <td>1232.0</td>\n",
       "      <td>9</td>\n",
       "      <td>1630206.0</td>\n",
       "      <td>10142</td>\n",
       "      <td>259699.0</td>\n",
       "      <td>253001.0</td>\n",
       "      <td>435</td>\n",
       "      <td>43460.0</td>\n",
       "      <td>1883207.0</td>\n",
       "      <td>10547</td>\n",
       "      <td>10547</td>\n",
       "      <td>0</td>\n",
       "    </tr>\n",
       "    <tr>\n",
       "      <th>3</th>\n",
       "      <td>6</td>\n",
       "      <td>CO</td>\n",
       "      <td>2168.0</td>\n",
       "      <td>0</td>\n",
       "      <td>1134.0</td>\n",
       "      <td>20</td>\n",
       "      <td>1210972.0</td>\n",
       "      <td>10965</td>\n",
       "      <td>130984.0</td>\n",
       "      <td>123351.0</td>\n",
       "      <td>3017</td>\n",
       "      <td>8667.0</td>\n",
       "      <td>2245385.0</td>\n",
       "      <td>30597</td>\n",
       "      <td>13934</td>\n",
       "      <td>0</td>\n",
       "    </tr>\n",
       "    <tr>\n",
       "      <th>4</th>\n",
       "      <td>7</td>\n",
       "      <td>CT</td>\n",
       "      <td>4698.0</td>\n",
       "      <td>27</td>\n",
       "      <td>496.0</td>\n",
       "      <td>0</td>\n",
       "      <td>2498115.0</td>\n",
       "      <td>86636</td>\n",
       "      <td>81463.0</td>\n",
       "      <td>76256.0</td>\n",
       "      <td>3338</td>\n",
       "      <td>9800.0</td>\n",
       "      <td>2579578.0</td>\n",
       "      <td>89974</td>\n",
       "      <td>0</td>\n",
       "      <td>89686</td>\n",
       "    </tr>\n",
       "  </tbody>\n",
       "</table>\n",
       "</div>"
      ],
      "text/plain": [
       "   index state   death  deathIncrease  hospitalizedCurrently  \\\n",
       "0      1    AL  3084.0              0                 1174.0   \n",
       "1      2    AR  2108.0             23                  786.0   \n",
       "2      4    AZ  6164.0              0                 1232.0   \n",
       "3      6    CO  2168.0              0                 1134.0   \n",
       "4      7    CT  4698.0             27                  496.0   \n",
       "\n",
       "   hospitalizedIncrease   negative  negativeIncrease  positive  \\\n",
       "0                     0  1232975.0              3158  204857.0   \n",
       "1                    62  1324655.0              7716  122811.0   \n",
       "2                     9  1630206.0             10142  259699.0   \n",
       "3                    20  1210972.0             10965  130984.0   \n",
       "4                     0  2498115.0             86636   81463.0   \n",
       "\n",
       "   positiveCasesViral  positiveIncrease  recovered  totalTestResults  \\\n",
       "0            173854.0              1170    84471.0         1406829.0   \n",
       "1            111761.0               945   108201.0         1436416.0   \n",
       "2            253001.0               435    43460.0         1883207.0   \n",
       "3            123351.0              3017     8667.0         2245385.0   \n",
       "4             76256.0              3338     9800.0         2579578.0   \n",
       "\n",
       "   totalTestResultsIncrease  totalTestsPeopleViralIncrease  \\\n",
       "0                      4138                              0   \n",
       "1                      8545                              0   \n",
       "2                     10547                          10547   \n",
       "3                     30597                          13934   \n",
       "4                     89974                              0   \n",
       "\n",
       "   totalTestsViralIncrease  \n",
       "0                     4138  \n",
       "1                     8545  \n",
       "2                        0  \n",
       "3                        0  \n",
       "4                    89686  "
      ]
     },
     "execution_count": 7,
     "metadata": {},
     "output_type": "execute_result"
    }
   ],
   "source": [
    "df.reset_index(inplace=True)\n",
    "df.head()"
   ]
  },
  {
   "cell_type": "code",
   "execution_count": 8,
   "metadata": {},
   "outputs": [],
   "source": [
    "# Set deathIncrease into a categorial column(A:0-10, B:10-20, C:20-50, D:50-inf)\n",
    "for idx,i in enumerate(df['deathIncrease']):\n",
    "    if i>=0 and i<=10:\n",
    "        df['deathIncrease'][idx] = 'A'\n",
    "    elif i>10 and i<=20:\n",
    "        df['deathIncrease'][idx] = 'B'\n",
    "    elif i>20 and i<=50:\n",
    "        df['deathIncrease'][idx] = 'C'\n",
    "    elif i>50:\n",
    "        df['deathIncrease'][idx] = 'D'"
   ]
  },
  {
   "cell_type": "code",
   "execution_count": 9,
   "metadata": {},
   "outputs": [],
   "source": [
    "df.drop(columns='index', inplace=True)"
   ]
  },
  {
   "cell_type": "code",
   "execution_count": 10,
   "metadata": {},
   "outputs": [
    {
     "data": {
      "text/plain": [
       "A    5244\n",
       "B    1216\n",
       "C    1027\n",
       "D     361\n",
       "Name: deathIncrease, dtype: int64"
      ]
     },
     "execution_count": 10,
     "metadata": {},
     "output_type": "execute_result"
    }
   ],
   "source": [
    "df['deathIncrease'].value_counts()"
   ]
  },
  {
   "cell_type": "code",
   "execution_count": 11,
   "metadata": {},
   "outputs": [],
   "source": [
    "df.rename(columns={'deathIncrease': 'grade'},inplace=True)"
   ]
  },
  {
   "cell_type": "code",
   "execution_count": 12,
   "metadata": {},
   "outputs": [],
   "source": [
    "df_cont = df.drop(columns=['grade', 'state'])\n",
    "state_dummies = pd.get_dummies(df['state'], prefix='state', drop_first=True)\n",
    "df_final = pd.concat([df['grade'], df_cont, state_dummies], axis=1)"
   ]
  },
  {
   "cell_type": "markdown",
   "metadata": {},
   "source": [
    "# Split dataset"
   ]
  },
  {
   "cell_type": "code",
   "execution_count": 13,
   "metadata": {},
   "outputs": [
    {
     "data": {
      "image/png": "[encoded data removed]",
      "text/plain": [
       "<Figure size 576x360 with 1 Axes>"
      ]
     },
     "metadata": {
      "needs_background": "light"
     },
     "output_type": "display_data"
    }
   ],
   "source": [
    "# Bar Graph of the normalized value counts for grade\n",
    "df['grade'].value_counts(normalize=True).plot(kind='barh', figsize=(8,5), color=['seagreen','midnightblue','firebrick'])\n",
    "plt.title(\"Covid-19 Grade\", fontweight='bold', fontsize=18)\n",
    "plt.xlabel('Normalized Value Counts',fontsize=10)\n",
    "plt.show()"
   ]
  },
  {
   "cell_type": "code",
   "execution_count": 14,
   "metadata": {},
   "outputs": [
    {
     "name": "stdout",
     "output_type": "stream",
     "text": [
      "A    3806\n",
      "B     860\n",
      "C     730\n",
      "D     254\n",
      "Name: grade, dtype: int64\n",
      "A    905\n",
      "B    233\n",
      "C    198\n",
      "D     77\n",
      "Name: grade, dtype: int64\n",
      "A    533\n",
      "B    123\n",
      "C     99\n",
      "D     30\n",
      "Name: grade, dtype: int64\n"
     ]
    }
   ],
   "source": [
    "# Define X and y\n",
    "y = df_final['grade']\n",
    "X = df_final.drop(columns=['grade'])\n",
    "\n",
    "# Split the data into training and test sets\n",
    "from sklearn.model_selection import train_test_split\n",
    "\n",
    "X_train_test, X_validation, y_train_test, y_validation = train_test_split(X, y, test_size=0.1, random_state=17)\n",
    "X_train, X_test, y_train, y_test = train_test_split(X_train_test, y_train_test, test_size=0.2, random_state=17)\n",
    "print(y_train.value_counts())\n",
    "print(y_test.value_counts())\n",
    "print(y_validation.value_counts())"
   ]
  },
  {
   "cell_type": "markdown",
   "metadata": {},
   "source": [
    "# Feature Transformation"
   ]
  },
  {
   "cell_type": "code",
   "execution_count": 15,
   "metadata": {},
   "outputs": [],
   "source": [
    "scaler = MinMaxScaler()\n",
    "X_train = pd.DataFrame(scaler.fit_transform(X_train))\n",
    "X_test = pd.DataFrame(scaler.fit_transform(X_test))\n",
    "X_validation = pd.DataFrame(scaler.fit_transform(X_validation))"
   ]
  },
  {
   "cell_type": "markdown",
   "metadata": {},
   "source": [
    "# Feature Selection"
   ]
  },
  {
   "cell_type": "code",
   "execution_count": 16,
   "metadata": {},
   "outputs": [],
   "source": [
    "# Vif function to get a list of high vif features\n",
    "def vif_over(X, value):\n",
    "    vif_list = []\n",
    "    X = add_constant(X)\n",
    "    vif = [variance_inflation_factor(X.values, i) for i in range(X.shape[1])]\n",
    "    for i in list(zip(X, vif)):\n",
    "        if i[1] > value:\n",
    "            vif_list.append(i)\n",
    "    return vif_list"
   ]
  },
  {
   "cell_type": "code",
   "execution_count": 17,
   "metadata": {},
   "outputs": [],
   "source": [
    "# A while loop function thta drop the highest vif each time until all vif in the range we set except intercept\n",
    "def drop_high_vif(X, value, y):\n",
    "    while (len(vif_over(X, value)) > 1):\n",
    "        vif_list = vif_over(X, value)\n",
    "        if vif_list[0][0] == 'const':\n",
    "            vif_list.pop(0)\n",
    "        drop = vif_list[0]\n",
    "        for n in vif_list:\n",
    "            if n[1] > drop[1]:\n",
    "                drop = n\n",
    "        X.drop(columns=[drop[0]], inplace=True)"
   ]
  },
  {
   "cell_type": "code",
   "execution_count": 18,
   "metadata": {},
   "outputs": [],
   "source": [
    "drop_high_vif(X_train, 3, 'grade')"
   ]
  },
  {
   "cell_type": "code",
   "execution_count": 19,
   "metadata": {},
   "outputs": [],
   "source": [
    "X_test = X_test[X_train.columns]\n",
    "X_validation = X_validation[X_train.columns]"
   ]
  },
  {
   "cell_type": "code",
   "execution_count": 20,
   "metadata": {},
   "outputs": [
    {
     "name": "stdout",
     "output_type": "stream",
     "text": [
      "                  Columns      Score\n",
      "1   hospitalizedCurrently  44.252523\n",
      "2    hospitalizedIncrease  43.987123\n",
      "7        positiveIncrease  40.343261\n",
      "16               state_CO  35.773368\n",
      "31               state_MT  26.234656\n",
      "40               state_OH  22.988206\n",
      "17               state_CT  22.257920\n",
      "24               state_LA  18.707430\n",
      "35               state_NH  15.948597\n",
      "33               state_ND  15.570166\n"
     ]
    }
   ],
   "source": [
    "# Univariate Selection\n",
    "bestfeatures = SelectKBest(score_func=chi2, k=10)\n",
    "fit = bestfeatures.fit(X_validation, y_validation)\n",
    "dfscores = pd.DataFrame(fit.scores_)\n",
    "dfcolumns = pd.DataFrame(X.columns)\n",
    "# Concat two dataframes for better visualization \n",
    "featureScores = pd.concat([dfcolumns, dfscores],axis=1)\n",
    "featureScores.columns = ['Columns','Score']  #naming the dataframe columns\n",
    "print(featureScores.nlargest(10,'Score'))  #print 10 best features"
   ]
  },
  {
   "cell_type": "code",
   "execution_count": 21,
   "metadata": {},
   "outputs": [
    {
     "data": {
      "image/png": "[encoded data removed]",
      "text/plain": [
       "<Figure size 432x288 with 1 Axes>"
      ]
     },
     "metadata": {
      "needs_background": "light"
     },
     "output_type": "display_data"
    }
   ],
   "source": [
    "featureScores.sort_values(by=['Score'], ascending=False, inplace=True)\n",
    "plt.title('Top 10 Important Columns')\n",
    "plt.barh(width=featureScores['Score'][:10], y=featureScores['Columns'][:10])\n",
    "plt.show()"
   ]
  },
  {
   "cell_type": "markdown",
   "metadata": {},
   "source": [
    "# Modeling\n",
    "Logistic Regression/ random forest / XGBoost"
   ]
  },
  {
   "cell_type": "code",
   "execution_count": 22,
   "metadata": {},
   "outputs": [],
   "source": [
    "# A run_model function for making models using accuracy for evaluation\n",
    "def run_model(model, X_train, X_test, y_train, y_test, X_validation, y_validation):\n",
    "    y_pred_train = model.predict(X_train)\n",
    "    train_accuracy = accuracy_score(y_train, y_pred_train)\n",
    "    print(f\"Training Accuracy:   {(train_accuracy * 100):.4}%\")\n",
    "    y_pred_test = model.predict(X_test)\n",
    "    test_accuracy = accuracy_score(y_test, y_pred_test)\n",
    "    print(f\"Test Accuracy:       {(test_accuracy * 100):.4}%\")\n",
    "    y_pred_validation = model.predict(X_validation)\n",
    "    validation_accuracy = accuracy_score(y_validation, y_pred_validation)\n",
    "    print(f\"Validation Accuracy: {(validation_accuracy * 100):.4}%\")"
   ]
  },
  {
   "cell_type": "markdown",
   "metadata": {},
   "source": [
    "### Logistic Regression"
   ]
  },
  {
   "cell_type": "code",
   "execution_count": 23,
   "metadata": {},
   "outputs": [],
   "source": [
    "# Instantiate the LogisticRegression for GridsearchCV\n",
    "logre = LogisticRegression(penalty='l1', tol=0.01)"
   ]
  },
  {
   "cell_type": "code",
   "execution_count": 24,
   "metadata": {},
   "outputs": [
    {
     "name": "stdout",
     "output_type": "stream",
     "text": [
      "{'C': 1.0, 'class_weight': None, 'solver': 'saga'}\n"
     ]
    }
   ],
   "source": [
    "# Parameter Tuning\n",
    "# Create a Grid for GridsearchCV to find the best parameters for the classifier\n",
    "rf_param_grid = {'C':[1, 0.1, 1.0],  'class_weight':[None, 'balanced'], 'solver':['saga','newton-cg']}\n",
    "\n",
    "gs_tree = GridSearchCV(logre, rf_param_grid, cv=3)\n",
    "\n",
    "gs_tree.fit(X_validation, y_validation)\n",
    "print(gs_tree.best_params_)"
   ]
  },
  {
   "cell_type": "code",
   "execution_count": 25,
   "metadata": {},
   "outputs": [
    {
     "name": "stdout",
     "output_type": "stream",
     "text": [
      "Training Accuracy:   71.86%\n",
      "Test Accuracy:       68.58%\n",
      "Validation Accuracy: 72.23%\n"
     ]
    }
   ],
   "source": [
    "# Apply the best_params to the model\n",
    "logre = LogisticRegression(C=1, penalty='l1', tol=0.01, solver='saga')\n",
    "logre.fit(X_train, y_train)\n",
    "run_model(logre, X_train, X_test, y_train, y_test, X_validation, y_validation)"
   ]
  },
  {
   "cell_type": "markdown",
   "metadata": {},
   "source": [
    "### Random Forest"
   ]
  },
  {
   "cell_type": "code",
   "execution_count": 26,
   "metadata": {},
   "outputs": [],
   "source": [
    "# Instantiate the RandomForestClassifier for GridsearchCV\n",
    "forest = RandomForestClassifier()"
   ]
  },
  {
   "cell_type": "code",
   "execution_count": 27,
   "metadata": {},
   "outputs": [
    {
     "name": "stdout",
     "output_type": "stream",
     "text": [
      "{'criterion': 'gini', 'max_depth': None, 'max_features': 8, 'min_samples_leaf': 2, 'min_samples_split': 2, 'n_estimators': 100}\n"
     ]
    }
   ],
   "source": [
    "# Parameter Tuning\n",
    "# Create a Grid for GridsearchCV to find the best parameters for the classifier\n",
    "rf_param_grid = {'n_estimators': [100,250,500],\n",
    "                'criterion': ['gini', 'mse'],\n",
    "                'max_depth': [None, 2],\n",
    "                'min_samples_split': [2, 5, 8],\n",
    "                'min_samples_leaf': [2, 5, 8],\n",
    "                'max_features':np.arange(5,10)}\n",
    "\n",
    "gs_tree = GridSearchCV(forest, rf_param_grid, cv=3)\n",
    "\n",
    "gs_tree.fit(X_validation, y_validation)\n",
    "print(gs_tree.best_params_)"
   ]
  },
  {
   "cell_type": "code",
   "execution_count": 28,
   "metadata": {},
   "outputs": [
    {
     "name": "stdout",
     "output_type": "stream",
     "text": [
      "Training Accuracy:   93.47%\n",
      "Test Accuracy:       72.68%\n",
      "Validation Accuracy: 70.7%\n"
     ]
    }
   ],
   "source": [
    "# Apply the best_params to the model\n",
    "forest = RandomForestClassifier(n_estimators=100, criterion='gini', \n",
    "                                max_depth=None, min_samples_split=2, \n",
    "                                min_samples_leaf=2, max_features=8, random_state=17)\n",
    "forest.fit(X_train, y_train)\n",
    "run_model(forest, X_train, X_test, y_train, y_test, X_validation, y_validation)"
   ]
  },
  {
   "cell_type": "markdown",
   "metadata": {},
   "source": [
    "### XGBoost"
   ]
  },
  {
   "cell_type": "code",
   "execution_count": 29,
   "metadata": {},
   "outputs": [],
   "source": [
    "# Instantiate the XGBoost Classifier for GridsearchCV\n",
    "xgboost = xgb.XGBClassifier()"
   ]
  },
  {
   "cell_type": "code",
   "execution_count": 30,
   "metadata": {},
   "outputs": [
    {
     "name": "stdout",
     "output_type": "stream",
     "text": [
      "{'colsample_bytree': 0.7, 'gamma': 0.0, 'learning_rate': 0.05, 'max_depth': 8, 'n_estimators': 100}\n"
     ]
    }
   ],
   "source": [
    "# Parameter Tuning\n",
    "# Create a Grid for GridsearchCV to find the best parameters for the classifier\n",
    "xg_param_grid = {'n_estimators': [100, 250, 500],\n",
    "              'learning_rate': [0.05, 0.1, 0.15], \n",
    "              'max_depth': [5, 6, 7, 8],\n",
    "              'colsample_bytree': [0.7, 1],\n",
    "              'gamma': [0.0, 0.1]}\n",
    "\n",
    "xg_search = GridSearchCV(xgboost, xg_param_grid, scoring='accuracy', cv=3)\n",
    "\n",
    "xg_search.fit(X_validation, y_validation)\n",
    "\n",
    "print(xg_search.best_params_)"
   ]
  },
  {
   "cell_type": "code",
   "execution_count": 31,
   "metadata": {},
   "outputs": [
    {
     "name": "stdout",
     "output_type": "stream",
     "text": [
      "Training Accuracy:   84.99%\n",
      "Test Accuracy:       71.05%\n",
      "Validation Accuracy: 69.68%\n"
     ]
    }
   ],
   "source": [
    "# Apply the best_params to the model\n",
    "booster = xgb.XGBClassifier(learning_rate=0.05, max_depth=8, n_estimators=100,\n",
    "                            colsample_bytree=0.7, gamma=0.0, random_state=17)\n",
    "booster.fit(X_train, y_train)\n",
    "run_model(booster, X_train, X_test, y_train, y_test, X_validation, y_validation)"
   ]
  },
  {
   "cell_type": "markdown",
   "metadata": {},
   "source": [
    "# Dealing with Class Imbalance\n",
    "There is class imbalance in our target. By balancing the data, we can remove the bias caused by this class imbalance. The data will be resampled using SMOTE."
   ]
  },
  {
   "cell_type": "code",
   "execution_count": 32,
   "metadata": {},
   "outputs": [],
   "source": [
    "# Import SMOTE\n",
    "from imblearn.over_sampling import SMOTE"
   ]
  },
  {
   "cell_type": "code",
   "execution_count": 33,
   "metadata": {},
   "outputs": [
    {
     "name": "stdout",
     "output_type": "stream",
     "text": [
      "A    5244\n",
      "B    1216\n",
      "C    1027\n",
      "D     361\n",
      "Name: grade, dtype: int64\n",
      "D    3806\n",
      "A    3806\n",
      "B    3806\n",
      "C    3806\n",
      "Name: grade, dtype: int64\n"
     ]
    }
   ],
   "source": [
    "# Compare previous and resampled target counts\n",
    "# Print imbalanced target\n",
    "print(df['grade'].value_counts())\n",
    "\n",
    "# SMOTE to balance the data\n",
    "X_SMOTE, y_SMOTE = SMOTE().fit_sample(X_train, y_train)\n",
    "\n",
    "# Print balanced target\n",
    "print(pd.Series(y_SMOTE).value_counts())"
   ]
  },
  {
   "cell_type": "code",
   "execution_count": 34,
   "metadata": {},
   "outputs": [
    {
     "name": "stdout",
     "output_type": "stream",
     "text": [
      "B    2763\n",
      "D    2754\n",
      "C    2722\n",
      "A    2721\n",
      "Name: grade, dtype: int64\n",
      "C    709\n",
      "A    695\n",
      "D    669\n",
      "B    668\n",
      "Name: grade, dtype: int64\n",
      "A    390\n",
      "D    383\n",
      "B    375\n",
      "C    375\n",
      "Name: grade, dtype: int64\n"
     ]
    }
   ],
   "source": [
    "# Train test split the SMOTE data\n",
    "X_train_test2, X_validation2, y_train_test2, y_validation2 = train_test_split(X_SMOTE, y_SMOTE, test_size=0.1, random_state=17)\n",
    "X_train2, X_test2, y_train2, y_test2 = train_test_split(X_train_test2, y_train_test2, test_size=0.2, random_state=17)\n",
    "print(y_train2.value_counts())\n",
    "print(y_test2.value_counts())\n",
    "print(y_validation2.value_counts())"
   ]
  },
  {
   "cell_type": "code",
   "execution_count": 35,
   "metadata": {},
   "outputs": [],
   "source": [
    "X_train2 = pd.DataFrame(scaler.fit_transform(X_train2))\n",
    "X_test2 = pd.DataFrame(scaler.fit_transform(X_test2))\n",
    "X_validation2 = pd.DataFrame(scaler.fit_transform(X_validation2))"
   ]
  },
  {
   "cell_type": "markdown",
   "metadata": {},
   "source": [
    "### Logistic Regression (SMOTE):"
   ]
  },
  {
   "cell_type": "code",
   "execution_count": 36,
   "metadata": {},
   "outputs": [
    {
     "name": "stdout",
     "output_type": "stream",
     "text": [
      "{'C': 1, 'class_weight': 'balanced', 'solver': 'saga'}\n"
     ]
    }
   ],
   "source": [
    "# Parameter Tuning\n",
    "# Create a Grid for GridsearchCV to find the best parameters for the classifier\n",
    "rf_param_grid = {'C':[1, 0.1, 1.0],  'class_weight':[None, 'balanced'], 'solver':['saga','newton-cg']}\n",
    "\n",
    "gs_tree = GridSearchCV(logre, rf_param_grid, cv=3)\n",
    "\n",
    "gs_tree.fit(X_validation2, y_validation2)\n",
    "print(gs_tree.best_params_)"
   ]
  },
  {
   "cell_type": "code",
   "execution_count": 37,
   "metadata": {},
   "outputs": [
    {
     "name": "stdout",
     "output_type": "stream",
     "text": [
      "Training Accuracy:   62.32%\n",
      "Test Accuracy:       62.75%\n",
      "Validation Accuracy: 60.93%\n"
     ]
    }
   ],
   "source": [
    "# Apply the best_params to the model\n",
    "logre2 = LogisticRegression(C=1, penalty='l1', class_weight='balanced', tol=0.01, solver='saga')\n",
    "logre2.fit(X_train2, y_train2)\n",
    "run_model(logre2, X_train2, X_test2, y_train2, y_test2, X_validation2, y_validation2)"
   ]
  },
  {
   "cell_type": "markdown",
   "metadata": {},
   "source": [
    "### Random Forest (SMOTE):"
   ]
  },
  {
   "cell_type": "code",
   "execution_count": 38,
   "metadata": {},
   "outputs": [
    {
     "name": "stdout",
     "output_type": "stream",
     "text": [
      "{'criterion': 'gini', 'max_depth': None, 'max_features': 6, 'min_samples_leaf': 2, 'min_samples_split': 5, 'n_estimators': 500}\n"
     ]
    }
   ],
   "source": [
    "# Parameter Tuning\n",
    "# Create a Grid for GridsearchCV to find the best parameters for the classifier\n",
    "rf_param_grid = {'n_estimators': [100,250,500],\n",
    "                'criterion': ['gini', 'mse'],\n",
    "                'max_depth': [None, 2],\n",
    "                'min_samples_split': [2, 5, 8],\n",
    "                'min_samples_leaf': [2,5, 8],\n",
    "                'max_features':np.arange(5,10)}\n",
    "\n",
    "gs_tree = GridSearchCV(forest, rf_param_grid, cv=3)\n",
    "\n",
    "gs_tree.fit(X_validation2, y_validation2)\n",
    "print(gs_tree.best_params_)"
   ]
  },
  {
   "cell_type": "code",
   "execution_count": 39,
   "metadata": {},
   "outputs": [
    {
     "name": "stdout",
     "output_type": "stream",
     "text": [
      "Training Accuracy:   96.27%\n",
      "Test Accuracy:       76.47%\n",
      "Validation Accuracy: 71.63%\n"
     ]
    }
   ],
   "source": [
    "# Apply the best_params to the model\n",
    "forest2 = RandomForestClassifier(n_estimators=500, criterion='gini', \n",
    "                                max_depth=None, min_samples_split=5, \n",
    "                                min_samples_leaf=2, max_features=6, random_state=17)\n",
    "forest2.fit(X_train2, y_train2)\n",
    "run_model(forest2, X_train2, X_test2, y_train2, y_test2, X_validation2, y_validation2)"
   ]
  },
  {
   "cell_type": "markdown",
   "metadata": {},
   "source": [
    "### XGBoost (SMOTE):"
   ]
  },
  {
   "cell_type": "code",
   "execution_count": 40,
   "metadata": {},
   "outputs": [
    {
     "name": "stdout",
     "output_type": "stream",
     "text": [
      "{'colsample_bytree': 0.7, 'gamma': 0.1, 'learning_rate': 0.05, 'max_depth': 8, 'n_estimators': 250}\n"
     ]
    }
   ],
   "source": [
    "# Parameter Tuning\n",
    "# Create a Grid for GridsearchCV to find the best parameters for the classifier\n",
    "xg_param_grid = {'n_estimators': [100, 250, 500],\n",
    "              'learning_rate': [0.05, 0.1, 0.15], \n",
    "              'max_depth': [5, 6, 7, 8],\n",
    "              'colsample_bytree': [0.7, 1],\n",
    "              'gamma': [0.0, 0.1]}\n",
    "\n",
    "xg_search = GridSearchCV(xgboost, xg_param_grid, scoring='accuracy', cv=6)\n",
    "\n",
    "xg_search.fit(X_validation2, y_validation2)\n",
    "\n",
    "print(xg_search.best_params_)"
   ]
  },
  {
   "cell_type": "code",
   "execution_count": 41,
   "metadata": {},
   "outputs": [
    {
     "name": "stdout",
     "output_type": "stream",
     "text": [
      "Training Accuracy:   93.68%\n",
      "Test Accuracy:       72.82%\n",
      "Validation Accuracy: 68.68%\n"
     ]
    }
   ],
   "source": [
    "# Apply the best_params to the model\n",
    "booster2 = xgb.XGBClassifier(learning_rate=0.05, max_depth=8, n_estimators=250,\n",
    "                            colsample_bytree=0.7, gamma=0.1, random_state=17)\n",
    "booster2.fit(X_train2, y_train2)\n",
    "run_model(booster2, X_train2, X_test2, y_train2, y_test2, X_validation2, y_validation2)"
   ]
  },
  {
   "cell_type": "markdown",
   "metadata": {},
   "source": [
    "# Choose Model\n",
    "By comparing, I will choose Random Forest(SMOTE) model as my final model"
   ]
  },
  {
   "cell_type": "markdown",
   "metadata": {},
   "source": [
    "### Cost Benefit"
   ]
  },
  {
   "cell_type": "code",
   "execution_count": 42,
   "metadata": {},
   "outputs": [],
   "source": [
    "def cost_benefit_analysis(model, X_test, y_test):\n",
    "    y_preds = model.predict(X_test)\n",
    "    label_dict = {\"TP\":0, \"FP\": 0, \"TN\": 0, \"FN\": 0}\n",
    "    for yt, yp in zip(y_test, y_preds):\n",
    "        if yt==yp:\n",
    "            if yt==1:\n",
    "                label_dict[\"TP\"] += 1\n",
    "            else:\n",
    "                label_dict[\"TN\"] += 1\n",
    "        else:\n",
    "            if yp==1:\n",
    "                label_dict[\"FP\"] += 1\n",
    "            else:\n",
    "                label_dict[\"FN\"] += 1\n",
    "    cb_dict = {\"TP\": 50, \"FP\": -10, \"TN\": 0, \"FN\": -60}\n",
    "    total = 0\n",
    "    for key in label_dict.keys():\n",
    "        total += cb_dict[key]*label_dict[key]\n",
    "    return total / sum(label_dict.values())"
   ]
  },
  {
   "cell_type": "code",
   "execution_count": 43,
   "metadata": {},
   "outputs": [
    {
     "data": {
      "text/plain": [
       "-18.853503184713375"
      ]
     },
     "execution_count": 43,
     "metadata": {},
     "output_type": "execute_result"
    }
   ],
   "source": [
    "cost_benefit_analysis(logre, X_test, y_test)"
   ]
  },
  {
   "cell_type": "markdown",
   "metadata": {},
   "source": [
    "### Confusion Matrix and Classification Report"
   ]
  },
  {
   "cell_type": "code",
   "execution_count": 44,
   "metadata": {},
   "outputs": [
    {
     "name": "stdout",
     "output_type": "stream",
     "text": [
      "[[785 112  50   7]\n",
      " [ 29  28  20   3]\n",
      " [ 83  86 115  26]\n",
      " [  8   7  13  41]]\n"
     ]
    }
   ],
   "source": [
    "y_preds = logre.predict(X_test)\n",
    "print(confusion_matrix(y_preds, y_test))"
   ]
  },
  {
   "cell_type": "code",
   "execution_count": 45,
   "metadata": {},
   "outputs": [
    {
     "name": "stdout",
     "output_type": "stream",
     "text": [
      "Training Accuracy:   71.86%\n",
      "Test Accuracy:       68.58%\n",
      "Validation Accuracy: 72.23%\n"
     ]
    }
   ],
   "source": [
    "run_model(logre, X_train, X_test, y_train, y_test, X_validation, y_validation)"
   ]
  },
  {
   "cell_type": "code",
   "execution_count": null,
   "metadata": {},
   "outputs": [],
   "source": []
  }
 ],
 "metadata": {
  "kernelspec": {
   "display_name": "Python 3",
   "language": "python",
   "name": "python3"
  },
  "language_info": {
   "codemirror_mode": {
    "name": "ipython",
    "version": 3
   },
   "file_extension": ".py",
   "mimetype": "text/x-python",
   "name": "python",
   "nbconvert_exporter": "python",
   "pygments_lexer": "ipython3",
   "version": "3.6.9"
  }
 },
 "nbformat": 4,
 "nbformat_minor": 4
}
